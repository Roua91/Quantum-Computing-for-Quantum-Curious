{
  "nbformat": 4,
  "nbformat_minor": 0,
  "metadata": {
    "colab": {
      "provenance": []
    },
    "kernelspec": {
      "name": "python3",
      "display_name": "Python 3"
    },
    "language_info": {
      "name": "python"
    }
  },
  "cells": [
    {
      "cell_type": "markdown",
      "source": [
        "\n",
        "\n",
        "\n",
        "# CHSH Game\n",
        "\n",
        "In this notebook, we will simulate the CHSH game using Python, where Alice and Bob play against the house (referee) by following quantum and classical strategies. The goal of this tutorial is to help you understand the game mechanics and demonstrate how quantum strategies can outperform classical ones.\n",
        "\n",
        "CHSH Game Overview\n",
        "- Players: Alice and Bob, who cooperate to play against the house.\n",
        "- Inputs: The house gives Alice a random input 𝑥 (either 0 or 1) and Bob a random input 𝑦 (either 0 or 1).\n",
        "- Outputs: Alice and Bob each produce an output (a bit) based on the inputs and their strategy.\n",
        "- Winning Condition: Alice and Bob win if their outputs satisfy:\n",
        "𝑎\n",
        "⊕\n",
        "𝑏\n",
        "=\n",
        "𝑥\n",
        "⋅\n",
        "𝑦\n",
        "where\n",
        "𝑎 is Alice's output,\n",
        "𝑏 is Bob's output, and ⊕ denotes the XOR operation.\n"
      ],
      "metadata": {
        "id": "0J-pToGwL9W1"
      }
    },
    {
      "cell_type": "markdown",
      "source": [
        "## Step 1: Set Up Classical and Quantum Strategies"
      ],
      "metadata": {
        "id": "Sro4r3IqMa1N"
      }
    },
    {
      "cell_type": "markdown",
      "source": [
        "We begin by defining the classical and quantum strategies that Alice and Bob can use to manipulate their inputs and produce outputs.\n",
        "\n",
        "Classical Strategy\n",
        "In the classical strategy, Alice and Bob cannot communicate once the game starts, and they use predefined rules based on the inputs they receive."
      ],
      "metadata": {
        "id": "kbHeJjIiMsvD"
      }
    },
    {
      "cell_type": "code",
      "execution_count": 45,
      "metadata": {
        "id": "O_pCsXdGgnOH"
      },
      "outputs": [],
      "source": [
        "def classical_strategy(inp):\n",
        "    # Example strategy: always output input (for Alice) and not(input) for Bob\n",
        "    if inp == 0:\n",
        "        return 1  # Bob's NOT strategy\n",
        "    else:\n",
        "        return 0  # Bob's NOT strategy"
      ]
    },
    {
      "cell_type": "markdown",
      "source": [
        "## Step 2: Quantum Strategy"
      ],
      "metadata": {
        "id": "ZnDMDK_2O57y"
      }
    },
    {
      "cell_type": "markdown",
      "source": [
        "In the quantum strategy, Alice and Bob share an entangled pair of qubits. Depending on the random input they receive, they apply quantum gates to manipulate their qubits and generate outputs."
      ],
      "metadata": {
        "id": "aJ4RQXp7O7us"
      }
    },
    {
      "cell_type": "code",
      "source": [
        "# Quantum strategy functions for Alice and Bob\n",
        "def qAlice_output(inp):\n",
        "    return 0 if inp == 0 else 3.14 / 2  # Alice: 0 for x=0, pi/2 for x=1\n",
        "\n",
        "def qBob_output(inp):\n",
        "    return 3.14 / 4 if inp == 0 else -3.14 / 4"
      ],
      "metadata": {
        "id": "gWlgmnCcPCV9"
      },
      "execution_count": 39,
      "outputs": []
    },
    {
      "cell_type": "markdown",
      "source": [
        "## Step 3: Simulate the Classical CHSH Game"
      ],
      "metadata": {
        "id": "Z5lR3ur1PUn-"
      }
    },
    {
      "cell_type": "markdown",
      "source": [
        "Now, let’s simulate the game where Alice and Bob use a classical strategy. You can choose which strategy they will use (output = input, output = NOT(input), etc.)."
      ],
      "metadata": {
        "id": "8Qa6iX2SPWhT"
      }
    },
    {
      "cell_type": "code",
      "source": [
        "import random\n",
        "\n",
        "# Classical strategy function for Alice and Bob\n",
        "def classical_strategy_Alice(x):\n",
        "    return x  # Alice outputs the input\n",
        "\n",
        "def classical_strategy_Bob(y):\n",
        "    return 1 - y  # Bob uses NOT(input)\n",
        "\n",
        "# Initialize counters for classical strategy\n",
        "N = 100  # Number of games\n",
        "cont_win_c = 0\n",
        "cont_tot_c = 0\n",
        "\n",
        "# Simulate the classical game N times\n",
        "for i in range(N):\n",
        "    # Generate random inputs x and y\n",
        "    x = random.randint(0, 1)\n",
        "    y = random.randint(0, 1)\n",
        "\n",
        "    # Apply classical strategy\n",
        "    a = classical_strategy_Alice(x)  # Alice's strategy\n",
        "    b = classical_strategy_Bob(y)  # Bob's strategy\n",
        "\n",
        "    # Check if the winning condition is satisfied\n",
        "    if (x * y == a ^ b):\n",
        "        cont_win_c += 1\n",
        "\n",
        "    cont_tot_c += 1\n",
        "\n",
        "# Calculate classical win probability\n",
        "c_prob_win = cont_win_c / cont_tot_c\n",
        "print('Classical strategy win probability: ', c_prob_win * 100, '%')\n",
        "\n"
      ],
      "metadata": {
        "colab": {
          "base_uri": "https://localhost:8080/"
        },
        "id": "mZpHoJ9PPkmP",
        "outputId": "1c7a2331-c266-49fd-9310-aa78d33d9121"
      },
      "execution_count": 46,
      "outputs": [
        {
          "output_type": "stream",
          "name": "stdout",
          "text": [
            "Classical strategy win probability:  75.0 %\n"
          ]
        }
      ]
    },
    {
      "cell_type": "markdown",
      "source": [
        "## Step 4: Simulate the Quantum CHSH Game"
      ],
      "metadata": {
        "id": "CMUazNgUP2uA"
      }
    },
    {
      "cell_type": "markdown",
      "source": [
        "Next, we simulate the game using a quantum strategy, where Alice and Bob manipulate their entangled qubits. To do this, we need to set up a quantum circuit using Qiskit to entangle the qubits and measure them after applying specific quantum gates."
      ],
      "metadata": {
        "id": "csaSE2StP7T2"
      }
    },
    {
      "cell_type": "code",
      "source": [
        "\n",
        "!pip install qiskit-aer\n",
        "!pip install qiskit\n"
      ],
      "metadata": {
        "colab": {
          "base_uri": "https://localhost:8080/"
        },
        "id": "0ESgxYFbQ3Az",
        "outputId": "6bfeede9-5a06-48cb-d13e-80939c4238bf"
      },
      "execution_count": 41,
      "outputs": [
        {
          "output_type": "stream",
          "name": "stdout",
          "text": [
            "Requirement already satisfied: qiskit-aer in /usr/local/lib/python3.10/dist-packages (0.15.1)\n",
            "Requirement already satisfied: qiskit>=1.1.0 in /usr/local/lib/python3.10/dist-packages (from qiskit-aer) (1.2.4)\n",
            "Requirement already satisfied: numpy>=1.16.3 in /usr/local/lib/python3.10/dist-packages (from qiskit-aer) (1.26.4)\n",
            "Requirement already satisfied: scipy>=1.0 in /usr/local/lib/python3.10/dist-packages (from qiskit-aer) (1.13.1)\n",
            "Requirement already satisfied: psutil>=5 in /usr/local/lib/python3.10/dist-packages (from qiskit-aer) (5.9.5)\n",
            "Requirement already satisfied: rustworkx>=0.15.0 in /usr/local/lib/python3.10/dist-packages (from qiskit>=1.1.0->qiskit-aer) (0.15.1)\n",
            "Requirement already satisfied: sympy>=1.3 in /usr/local/lib/python3.10/dist-packages (from qiskit>=1.1.0->qiskit-aer) (1.13.3)\n",
            "Requirement already satisfied: dill>=0.3 in /usr/local/lib/python3.10/dist-packages (from qiskit>=1.1.0->qiskit-aer) (0.3.9)\n",
            "Requirement already satisfied: python-dateutil>=2.8.0 in /usr/local/lib/python3.10/dist-packages (from qiskit>=1.1.0->qiskit-aer) (2.8.2)\n",
            "Requirement already satisfied: stevedore>=3.0.0 in /usr/local/lib/python3.10/dist-packages (from qiskit>=1.1.0->qiskit-aer) (5.3.0)\n",
            "Requirement already satisfied: typing-extensions in /usr/local/lib/python3.10/dist-packages (from qiskit>=1.1.0->qiskit-aer) (4.12.2)\n",
            "Requirement already satisfied: symengine<0.14,>=0.11 in /usr/local/lib/python3.10/dist-packages (from qiskit>=1.1.0->qiskit-aer) (0.13.0)\n",
            "Requirement already satisfied: six>=1.5 in /usr/local/lib/python3.10/dist-packages (from python-dateutil>=2.8.0->qiskit>=1.1.0->qiskit-aer) (1.16.0)\n",
            "Requirement already satisfied: pbr>=2.0.0 in /usr/local/lib/python3.10/dist-packages (from stevedore>=3.0.0->qiskit>=1.1.0->qiskit-aer) (6.1.0)\n",
            "Requirement already satisfied: mpmath<1.4,>=1.1.0 in /usr/local/lib/python3.10/dist-packages (from sympy>=1.3->qiskit>=1.1.0->qiskit-aer) (1.3.0)\n",
            "Requirement already satisfied: qiskit in /usr/local/lib/python3.10/dist-packages (1.2.4)\n",
            "Requirement already satisfied: rustworkx>=0.15.0 in /usr/local/lib/python3.10/dist-packages (from qiskit) (0.15.1)\n",
            "Requirement already satisfied: numpy<3,>=1.17 in /usr/local/lib/python3.10/dist-packages (from qiskit) (1.26.4)\n",
            "Requirement already satisfied: scipy>=1.5 in /usr/local/lib/python3.10/dist-packages (from qiskit) (1.13.1)\n",
            "Requirement already satisfied: sympy>=1.3 in /usr/local/lib/python3.10/dist-packages (from qiskit) (1.13.3)\n",
            "Requirement already satisfied: dill>=0.3 in /usr/local/lib/python3.10/dist-packages (from qiskit) (0.3.9)\n",
            "Requirement already satisfied: python-dateutil>=2.8.0 in /usr/local/lib/python3.10/dist-packages (from qiskit) (2.8.2)\n",
            "Requirement already satisfied: stevedore>=3.0.0 in /usr/local/lib/python3.10/dist-packages (from qiskit) (5.3.0)\n",
            "Requirement already satisfied: typing-extensions in /usr/local/lib/python3.10/dist-packages (from qiskit) (4.12.2)\n",
            "Requirement already satisfied: symengine<0.14,>=0.11 in /usr/local/lib/python3.10/dist-packages (from qiskit) (0.13.0)\n",
            "Requirement already satisfied: six>=1.5 in /usr/local/lib/python3.10/dist-packages (from python-dateutil>=2.8.0->qiskit) (1.16.0)\n",
            "Requirement already satisfied: pbr>=2.0.0 in /usr/local/lib/python3.10/dist-packages (from stevedore>=3.0.0->qiskit) (6.1.0)\n",
            "Requirement already satisfied: mpmath<1.4,>=1.1.0 in /usr/local/lib/python3.10/dist-packages (from sympy>=1.3->qiskit) (1.3.0)\n"
          ]
        }
      ]
    },
    {
      "cell_type": "code",
      "source": [
        "!pip show qiskit\n"
      ],
      "metadata": {
        "colab": {
          "base_uri": "https://localhost:8080/"
        },
        "id": "nEfOHpVoT6Ik",
        "outputId": "c292e87d-3cb4-47d1-a10c-0c968ea97d1b"
      },
      "execution_count": 42,
      "outputs": [
        {
          "output_type": "stream",
          "name": "stdout",
          "text": [
            "Name: qiskit\n",
            "Version: 1.2.4\n",
            "Summary: An open-source SDK for working with quantum computers at the level of extended quantum circuits, operators, and primitives.\n",
            "Home-page: https://www.ibm.com/quantum/qiskit\n",
            "Author: \n",
            "Author-email: Qiskit Development Team <qiskit@us.ibm.com>\n",
            "License: Apache 2.0\n",
            "Location: /usr/local/lib/python3.10/dist-packages\n",
            "Requires: dill, numpy, python-dateutil, rustworkx, scipy, stevedore, symengine, sympy, typing-extensions\n",
            "Required-by: qiskit-aer\n"
          ]
        }
      ]
    },
    {
      "cell_type": "code",
      "source": [
        "from qiskit_aer import AerSimulator\n",
        "from qiskit import QuantumCircuit, ClassicalRegister, QuantumRegister\n",
        "import random\n",
        "\n",
        "# Initialize Qiskit backend\n",
        "backend = AerSimulator()\n",
        "\n",
        "# Initialize counters for quantum strategy\n",
        "N = 100  # Number of games\n",
        "cont_win_q = 0\n",
        "cont_tot_q = 0\n",
        "\n",
        "# Simulate the quantum game N times\n",
        "for i in range(N):\n",
        "    # Create quantum and classical registers\n",
        "    q = QuantumRegister(2)\n",
        "    c = ClassicalRegister(2)\n",
        "\n",
        "    # Create the quantum circuit\n",
        "    game = QuantumCircuit(q, c)\n",
        "\n",
        "    # Prepare the entangled Bell pair\n",
        "    game.h(q[0])  # Hadamard gate on Alice's qubit\n",
        "    game.cx(q[0], q[1])  # CNOT gate entangling Alice's and Bob's qubits\n",
        "\n",
        "    # Generate random inputs x and y\n",
        "    x = rand.randint(0, 1)\n",
        "    y = rand.randint(0, 1)\n",
        "\n",
        "    # Apply rotations based on the input (Alice and Bob's strategy)\n",
        "    theta = qAlice_output(x)  # Alice's optimal strategy\n",
        "    phi = qBob_output(y)  # Bob's optimal strategy\n",
        "    game.ry(theta, q[0])  # Rotate Alice's qubit\n",
        "    game.ry(phi, q[1])  # Rotate Bob's qubit\n",
        "\n",
        "    # Measure both qubits\n",
        "    game.measure(q[0], c[0])\n",
        "    game.measure(q[1], c[1])\n",
        "\n",
        "    # Execute the quantum circuit\n",
        "    sim = backend.run(game, shots=1000)\n",
        "    result = sim.result()\n",
        "    counts = result.get_counts()\n",
        "\n",
        "    # Randomly sample from the measurement results based on their frequencies\n",
        "    outcome = random.choices(list(counts.keys()), weights=list(counts.values()))[0]\n",
        "\n",
        "    # Extract the measurement result (a and b)\n",
        "    a = int(outcome[1])  # Alice's output\n",
        "    b = int(outcome[0])  # Bob's output\n",
        "\n",
        "    # Check if the winning condition is satisfied\n",
        "    if (x * y == a ^ b):\n",
        "        cont_win_q += 1\n",
        "\n",
        "    cont_tot_q += 1\n",
        "\n",
        "# Calculate the quantum win probability\n",
        "q_prob_win = cont_win_q / cont_tot_q\n",
        "print('Quantum strategy win probability: ', q_prob_win * 100, '%')\n"
      ],
      "metadata": {
        "colab": {
          "base_uri": "https://localhost:8080/"
        },
        "id": "d34FJMPVP9jE",
        "outputId": "1199cc7b-d4c3-4f13-8f99-71ffe80d698c"
      },
      "execution_count": 47,
      "outputs": [
        {
          "output_type": "stream",
          "name": "stdout",
          "text": [
            "Quantum strategy win probability:  82.0 %\n"
          ]
        }
      ]
    },
    {
      "cell_type": "markdown",
      "source": [
        "## Step 5: Compare Classical vs. Quantum Results"
      ],
      "metadata": {
        "id": "MJA_zwIOQBTK"
      }
    },
    {
      "cell_type": "markdown",
      "source": [
        "Finally, compare the results of the classical and quantum strategies to see which one gives Alice and Bob the best chance of winning the game."
      ],
      "metadata": {
        "id": "s6N-mfXwQKpZ"
      }
    },
    {
      "cell_type": "code",
      "source": [
        "# Compare classical and quantum strategies\n",
        "if Prob_win > q_prob_win:\n",
        "    print(\"Classical strategy gave Alice and Bob a higher chance of winning.\")\n",
        "else:\n",
        "    print(\"Quantum strategy gave Alice and Bob a higher chance of winning.\")\n"
      ],
      "metadata": {
        "colab": {
          "base_uri": "https://localhost:8080/"
        },
        "id": "cU1ZYxTYQLcK",
        "outputId": "5c558c18-2934-4473-c472-f0302004182b"
      },
      "execution_count": 48,
      "outputs": [
        {
          "output_type": "stream",
          "name": "stdout",
          "text": [
            "Quantum strategy gave Alice and Bob a higher chance of winning.\n"
          ]
        }
      ]
    }
  ]
}