{
  "nbformat": 4,
  "nbformat_minor": 0,
  "metadata": {
    "colab": {
      "provenance": []
    },
    "kernelspec": {
      "name": "python3",
      "display_name": "Python 3"
    },
    "language_info": {
      "name": "python"
    }
  },
  "cells": [
    {
      "cell_type": "markdown",
      "source": [
        "# Coin Flipping Game"
      ],
      "metadata": {
        "id": "x3Pc226g4gwU"
      }
    },
    {
      "cell_type": "markdown",
      "source": [
        "This notebook simulates a game with two biased coins: one euro and one cent. The probabilities of heads and tails are different for each coin, and the game follows a specific set of rules for transitioning between coin tosses. We aim to trace the probabilities of getting heads or tails after multiple tosses using Python.\n",
        "\n",
        "\n",
        "<br>\n",
        "\n",
        "\n",
        "\n",
        "**Game Concept Overview**\n",
        "The game involves flipping two biased coins under certain rules, and we calculate the probabilities of getting heads or tails after a certain number of tosses.\n",
        "\n",
        "\n",
        "*   One euro coin has a 60% chance (0.6 probability) of landing heads and 40% chance (0.4 probability) of landing tails.\n",
        "* One cent coin has a 30% chance (0.3 probability) of landing heads and 70% chance (0.7 probability) of landing tails.\n",
        "\n",
        "<br>\n",
        "\n",
        "**Game Rules**\n",
        "Nora always starts the game by flipping the one euro coin.\n",
        "After every flip:\n",
        "- If the euro coin lands heads, she flips the euro coin again.\n",
        "- If the euro coin lands tails, she switches and flips the one cent coin in the next round."
      ],
      "metadata": {
        "id": "2Q4lbOMI4pvS"
      }
    },
    {
      "cell_type": "markdown",
      "source": [
        "## Task 1: Convince Yourself"
      ],
      "metadata": {
        "id": "_Yn-5pT_4t2f"
      }
    },
    {
      "cell_type": "markdown",
      "source": [
        "Objective:\n",
        "Understand the transitions between coin flips in the table:\n",
        "\n",
        "![image.png](data:image/png;base64,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)\n",
        "\n",
        "If you flip the euro coin and get heads, the next flip is the euro coin again (0.6 probability of heads).\n",
        "If you flip the euro coin and get tails, the next flip is the cent coin (0.4 probability of tails).\n",
        "If you flip the cent coin and get heads, the next flip is the euro coin (0.3 probability of heads).\n",
        "If you flip the cent coin and get tails, you flip the cent coin again (0.7 probability of tails)."
      ],
      "metadata": {
        "id": "wbgmbq624xZB"
      }
    },
    {
      "cell_type": "code",
      "execution_count": 1,
      "metadata": {
        "colab": {
          "base_uri": "https://localhost:8080/"
        },
        "id": "2DmThNUs4c1B",
        "outputId": "44b8601b-82e3-4ce7-ace7-0bf8679118db"
      },
      "outputs": [
        {
          "output_type": "stream",
          "name": "stdout",
          "text": [
            "Initial probability of heads: 1\n",
            "Initial probability of tails: 0\n"
          ]
        }
      ],
      "source": [
        "# Initial condition\n",
        "prob_head = 1  # Starting with 100% heads (euro coin)\n",
        "prob_tail = 0  # 0% tails at the beginning\n",
        "\n",
        "# Display the initial probabilities\n",
        "print(f\"Initial probability of heads: {prob_head}\")\n",
        "print(f\"Initial probability of tails: {prob_tail}\")\n"
      ]
    },
    {
      "cell_type": "markdown",
      "source": [
        "## Task 2: Tracing Nora's Coin Tosses (After 3 Tosses)"
      ],
      "metadata": {
        "id": "_-8sf-ad6ydd"
      }
    },
    {
      "cell_type": "markdown",
      "source": [
        "**Objective:**\n",
        "Calculate the probabilities of getting heads or tails after 3 coin tosses.\n",
        "\n",
        "**Calculation:**\n",
        "We will apply the transition probabilities for each toss:\n",
        "\n",
        "First Coin Toss:\n",
        "\n",
        "- **Probability of heads:** prob_head = 0.6× current_prob_head+0.3×current prob_tail\n",
        "<br>\n",
        "- **Probability of tails:** prob_tail = 0.4 × current_prob_head+0.7×current prob_tail\n",
        "\n",
        "Repeat the same process for the second and third tosses."
      ],
      "metadata": {
        "id": "cbllX-qm7EdW"
      }
    },
    {
      "cell_type": "code",
      "source": [
        "# we assume that the probability of having head is 1 at the beginning.\n",
        "prob_head = 1  # Starting with 100% heads\n",
        "prob_tail = 0  # 0% tails at the beginning\n",
        "\n",
        "# First coin-flip\n",
        "new_prob_head = prob_head * 0.6 + prob_tail * 0.3\n",
        "new_prob_tail = prob_head * 0.4 + prob_tail * 0.7\n",
        "prob_head, prob_tail = new_prob_head, new_prob_tail\n",
        "\n",
        "# Second coin-flip\n",
        "new_prob_head = prob_head * 0.6 + prob_tail * 0.3\n",
        "new_prob_tail = prob_head * 0.4 + prob_tail * 0.7\n",
        "prob_head, prob_tail = new_prob_head, new_prob_tail\n",
        "\n",
        "# Third coin-flip\n",
        "new_prob_head = prob_head * 0.6 + prob_tail * 0.3\n",
        "new_prob_tail = prob_head * 0.4 + prob_tail * 0.7\n",
        "prob_head, prob_tail = new_prob_head, new_prob_tail\n",
        "\n",
        "# Print the final probabilities after 3 coin tosses\n",
        "print(f\"The probability of getting heads after 3 tosses is {prob_head:.4f}\")\n",
        "print(f\"The probability of getting tails after 3 tosses is {prob_tail:.4f}\")\n"
      ],
      "metadata": {
        "colab": {
          "base_uri": "https://localhost:8080/"
        },
        "id": "yD0P_WaM6v8f",
        "outputId": "ec9828aa-9d28-4ad7-fe4c-5b41fde723df"
      },
      "execution_count": 2,
      "outputs": [
        {
          "output_type": "stream",
          "name": "stdout",
          "text": [
            "The probability of getting heads after 3 tosses is 0.4440\n",
            "The probability of getting tails after 3 tosses is 0.5560\n"
          ]
        }
      ]
    },
    {
      "cell_type": "markdown",
      "source": [
        "## Task 3: Tracing Probabilities After 10, 20, 30, and 50 Tosses"
      ],
      "metadata": {
        "id": "RVZD-tXc8s8u"
      }
    },
    {
      "cell_type": "markdown",
      "source": [
        "**Objective:**\n",
        "Use a loop to calculate the probabilities of heads and tails after 10, 20, 30, and 50 tosses."
      ],
      "metadata": {
        "id": "Lenpuen0EUZb"
      }
    },
    {
      "cell_type": "code",
      "source": [
        "# Define a function to trace probabilities after 'n' tosses\n",
        "def trace_probabilities(n_tosses):\n",
        "    prob_head = 1  # Starting with 100% heads\n",
        "    prob_tail = 0  # 0% tails at the beginning\n",
        "\n",
        "    for i in range(n_tosses):\n",
        "        # Update the probabilities using the transition rules\n",
        "        new_prob_head = prob_head * 0.6 + prob_tail * 0.3\n",
        "        new_prob_tail = prob_head * 0.4 + prob_tail * 0.7\n",
        "        prob_head, prob_tail = new_prob_head, new_prob_tail\n",
        "\n",
        "    return prob_head, prob_tail\n",
        "\n",
        "# Trace for 10, 20, 30, and 50 tosses\n",
        "for n in [10, 20, 30, 50]:\n",
        "    prob_head, prob_tail = trace_probabilities(n)\n",
        "    print(f\"After {n} tosses:\")\n",
        "    print(f\"  Probability of heads: {prob_head:.4f}\")\n",
        "    print(f\"  Probability of tails: {prob_tail:.4f}\")\n"
      ],
      "metadata": {
        "colab": {
          "base_uri": "https://localhost:8080/"
        },
        "id": "Tlr_DEAREYPa",
        "outputId": "15c66c33-92d8-479d-fa5a-95f3d66bec20"
      },
      "execution_count": 3,
      "outputs": [
        {
          "output_type": "stream",
          "name": "stdout",
          "text": [
            "After 10 tosses:\n",
            "  Probability of heads: 0.4286\n",
            "  Probability of tails: 0.5714\n",
            "After 20 tosses:\n",
            "  Probability of heads: 0.4286\n",
            "  Probability of tails: 0.5714\n",
            "After 30 tosses:\n",
            "  Probability of heads: 0.4286\n",
            "  Probability of tails: 0.5714\n",
            "After 50 tosses:\n",
            "  Probability of heads: 0.4286\n",
            "  Probability of tails: 0.5714\n"
          ]
        }
      ]
    },
    {
      "cell_type": "markdown",
      "source": [
        "The system of biased coin tosses stabilizes to a long-term equilibrium state where the probability of getting heads remains around 42.86% and tails around 57.14%. This steady-state behavior occurs because of the fixed transition probabilities and biases of the coins.\n",
        "\n",
        "This demonstrates that, regardless of how many additional tosses you make after a certain point, the probabilities will remain stable at these equilibrium values."
      ],
      "metadata": {
        "id": "dSZafQlPJ-BT"
      }
    },
    {
      "cell_type": "markdown",
      "source": [
        "## Task 4: Different Initial Conditions"
      ],
      "metadata": {
        "id": "MP_e6ps2EXff"
      }
    },
    {
      "cell_type": "markdown",
      "source": [
        "**Objective:**\n",
        "<br>\n",
        "Repeat Task 3 but with different initial conditions. For example:\n",
        "\n",
        "**- Case 1:** Start with prob_head=0.5, prob_tail=0.5\n",
        "<br>\n",
        "**- Case 2:** Start with prob_head=0, prob_tail=1"
      ],
      "metadata": {
        "id": "nG02SZ36EXiY"
      }
    },
    {
      "cell_type": "code",
      "source": [
        "# Define a function to trace probabilities with different initial conditions\n",
        "def trace_probabilities_with_initial_conditions(n_tosses, prob_head_initial, prob_tail_initial):\n",
        "    prob_head = prob_head_initial\n",
        "    prob_tail = prob_tail_initial\n",
        "\n",
        "    for i in range(n_tosses):\n",
        "        # Update the probabilities using the transition rules\n",
        "        new_prob_head = prob_head * 0.6 + prob_tail * 0.3\n",
        "        new_prob_tail = prob_head * 0.4 + prob_tail * 0.7\n",
        "        prob_head, prob_tail = new_prob_head, new_prob_tail\n",
        "\n",
        "    return prob_head, prob_tail\n",
        "\n",
        "# Case 1: prob_head = 0.5, prob_tail = 0.5\n",
        "for n in [10, 20, 50]:\n",
        "    prob_head, prob_tail = trace_probabilities_with_initial_conditions(n, 0.5, 0.5)\n",
        "    print(f\"After {n} tosses (starting with prob_head=0.5, prob_tail=0.5):\")\n",
        "    print(f\"  Probability of heads: {prob_head:.4f}\")\n",
        "    print(f\"  Probability of tails: {prob_tail:.4f}\")\n",
        "\n",
        "# Case 2: prob_head = 0, prob_tail = 1\n",
        "for n in [10, 20, 50]:\n",
        "    prob_head, prob_tail = trace_probabilities_with_initial_conditions(n, 0, 1)\n",
        "    print(f\"After {n} tosses (starting with prob_head=0, prob_tail=1):\")\n",
        "    print(f\"  Probability of heads: {prob_head:.4f}\")\n",
        "    print(f\"  Probability of tails: {prob_tail:.4f}\")\n"
      ],
      "metadata": {
        "colab": {
          "base_uri": "https://localhost:8080/"
        },
        "id": "VCxVCudhFOaA",
        "outputId": "6341053b-4d5d-4d08-9207-ffdc81d69944"
      },
      "execution_count": 4,
      "outputs": [
        {
          "output_type": "stream",
          "name": "stdout",
          "text": [
            "After 10 tosses (starting with prob_head=0.5, prob_tail=0.5):\n",
            "  Probability of heads: 0.4286\n",
            "  Probability of tails: 0.5714\n",
            "After 20 tosses (starting with prob_head=0.5, prob_tail=0.5):\n",
            "  Probability of heads: 0.4286\n",
            "  Probability of tails: 0.5714\n",
            "After 50 tosses (starting with prob_head=0.5, prob_tail=0.5):\n",
            "  Probability of heads: 0.4286\n",
            "  Probability of tails: 0.5714\n",
            "After 10 tosses (starting with prob_head=0, prob_tail=1):\n",
            "  Probability of heads: 0.4286\n",
            "  Probability of tails: 0.5714\n",
            "After 20 tosses (starting with prob_head=0, prob_tail=1):\n",
            "  Probability of heads: 0.4286\n",
            "  Probability of tails: 0.5714\n",
            "After 50 tosses (starting with prob_head=0, prob_tail=1):\n",
            "  Probability of heads: 0.4286\n",
            "  Probability of tails: 0.5714\n"
          ]
        }
      ]
    }
  ]
}